{
 "cells": [
  {
   "cell_type": "markdown",
   "id": "0d6755da-0560-4909-af10-14b8758a7e9d",
   "metadata": {},
   "source": [
    "#### <a id=\"1\"></a>\n",
    "# <p style=\"background-color:#8DB600;font-family:newtimeroman;color:#FFF9ED;font-size:120%;text-align:center;border-radius:10px 10px;\">CRYPTOCURRENCY FORECASTING</p>"
   ]
  },
  {
   "cell_type": "markdown",
   "id": "3d554d6b-a201-4f2a-b0b2-76e776a11153",
   "metadata": {},
   "source": [
    "I create a forecasting model for fifteen-minute price movements of popular cryptocurrency assets. \n",
    "* I examine statistical properties of the time series, specifically autocorrelation and stationarity, to inform my modeling. \n",
    "* I engineer a number of features, including popular technical financial indicators, as well as rolling averages and first and second derivatives of various features.\n",
    "* I perform feature-selection using Pearson correlations and feature importances. \n",
    "* I fit to an XGBoost model, and compare performance with persistence model and linear regression baselines.\n",
    "\n",
    "My forecasting model produces a weighted correlation value of 0.049. By typical standards for forecasting models, this result is pitifully low. But this is not a typical forecasting problem for a number of reasons. \n",
    "* The efficient market hypothesis states that any strategy leading to reliable profits (like a more accurate forecasting model) is impossible.\n",
    "* Cryptocurrences are wildly volatile. \n",
    "* The prediction target is the fifteen-minute log return, subtracted by a term that accounts for general market behavior. Overall market trends are therefore useless for forecasting. \n",
    "\n",
    "The dataset I use is provided publicly by the finance company G-Research, and runs from 2018 to 2021. "
   ]
  },
  {
   "cell_type": "markdown",
   "id": "4eaadff9-83d7-4f79-8a93-ed83f7465c13",
   "metadata": {
    "tags": []
   },
   "source": [
    "#### <a id=\"1\"></a>\n",
    "# <p style=\"background-color:#8DB600;font-family:newtimeroman;color:#FFF9ED;font-size:100%;text-align:center;border-radius:10px 10px;\">Importing Data and Libraries</p>"
   ]
  },
  {
   "cell_type": "code",
   "execution_count": 1,
   "id": "44228d9c-66ab-4cb6-98ee-8431236de8cd",
   "metadata": {
    "tags": []
   },
   "outputs": [],
   "source": [
    "# standard libraries\n",
    "import sklearn\n",
    "import numpy as np\n",
    "import pandas as pd\n",
    "\n",
    "# time series statistics\n",
    "import statsmodels\n",
    "from statsmodels.tsa.stattools import adfuller\n",
    "from statsmodels.tsa.stattools import grangercausalitytests\n",
    "from statsmodels.graphics.tsaplots import plot_pacf\n",
    "from statsmodels.graphics.tsaplots import plot_acf\n",
    "import scipy \n",
    "\n",
    "# machine learning modelling \n",
    "from sklearn.linear_model import LinearRegression\n",
    "from xgboost import XGBRegressor\n",
    "\n",
    "# evaluating models\n",
    "from sklearn.metrics import mean_absolute_error\n",
    "from sklearn.metrics import mean_squared_error\n",
    "\n",
    "# plots \n",
    "from matplotlib import pyplot as plt \n",
    "import seaborn as sns\n",
    "%matplotlib inline"
   ]
  },
  {
   "cell_type": "code",
   "execution_count": 6,
   "id": "e88fe757-7aac-474e-999d-4119c171a0ab",
   "metadata": {
    "tags": []
   },
   "outputs": [],
   "source": [
    "# File paths\n",
    "train_file = \"train.csv\"\n",
    "asset_file = \"asset_details.csv\"\n",
    "\n",
    "# Data imports\n",
    "df = pd.read_csv(train_file) \n",
    "asset_details = pd.read_csv(asset_file)\n",
    "\n",
    "# Index the time series dataframe by Asset_ID, timestamp\n",
    "df = df.set_index(keys = [\"Asset_ID\", \"timestamp\"]).sort_index()\n",
    "\n",
    "# Index the asset_details dataframe by Asset_ID\n",
    "asset_details = asset_details.set_index(keys = [\"Asset_ID\"]).sort_index()"
   ]
  },
  {
   "cell_type": "markdown",
   "id": "cde28c75-0da7-435e-97a4-87b48f740032",
   "metadata": {
    "tags": []
   },
   "source": [
    "#### <a id=\"1\"></a>\n",
    "# <p style=\"background-color:#8DB600;font-family:newtimeroman;color:#FFF9ED;font-size:100%;text-align:center;border-radius:10px 10px;\">Data Overview</p>"
   ]
  },
  {
   "cell_type": "markdown",
   "id": "a82e6be7-fbb6-46c6-989b-41e7d4f19b83",
   "metadata": {},
   "source": [
    "The dataframe consists of 14 distinct timeseries, one for each cryptocurrency asset. See the table below for a snippet of Binance Coin's timeseries data. Here is how each column is defined\n",
    "* Asset_ID: the ID number for each asset. To get the asset name, see dataframe 'asset_details'. \n",
    "* timestamp: this is a Unix timestamp, measuring the number of seconds elapsed since 1970-01-01 00:00:00.000 UTC. These timestamps come in 60 second intervals, indicating that data is provided for minute-long time periods. \n",
    "\n",
    "In what follows, when I refer to the 'time interval' defined by a timestamp, I mean the minute-long time interval *ending* at the time defined by the timestamp. Here are the features we have access to:\n",
    "* Count: Total number of trades in the time interval.\n",
    "* Open and Close: Opening price of the time interval, and Closing price of the time interval (all in USD).\n",
    "* High and Low: Highest price of the time interval, and Lowest price of the time interval (all in USD). \n",
    "* Volume: Quantity of assets bought or sold (in USD). \n",
    "* VWAP: Stands for Volume-Weighted Asset Price. This is the average price of the asset over the time interval, weighted by volume. \n",
    "\n",
    "The column 'Target' is the feature to be predicted. It measures the overall behavior of the asset price, in the time period from 1 to 15 minutes after the timestamp. Specifically, it is the asset log-return over this time period, subtracted by an expression that measures the overall behavior of the market. Thus, it can be referred to as the 'residual log returns'. It is designed so that it qualitatively describes the behavior of the specific asset over time, relative to market behavior. "
   ]
  },
  {
   "cell_type": "markdown",
   "id": "4a6908bc-204c-4a8f-9369-1c250be8015b",
   "metadata": {},
   "source": [
    "\n",
    "\n",
    "\n",
    "In what follows, I provide the formal definition for 'Target', though the qualitative definition above should suffice for understanding. Feel free to skip if uninterested. \n",
    "\n",
    "Target is defined as follows:\n",
    "$$\\text{Target}_a(t) = R_a(t) - \\beta_a(t) M(t)$$ \n",
    "\n",
    "In this expression, the subscript 'a' specifies the cryptocurrency asset. $R_a(t)$ is defined as log returns over 15 minutes,\n",
    "$$R_a(t) = \\log(P_a(t + 16) / P_a(t + 1)).$$\n",
    "\n",
    "Furthermore, M(t) measures the overall market behavior, as the weighted average of all log returns:\n",
    "$$ M(t) = \\frac{\\sum_a w_a R_a(t)}{\\sum_a w_a},$$\n",
    "\n",
    "and $\\beta_a$ measures the correlation between the market $M(t)$ and the log-returns $R_a(t)$: \n",
    "$$ \\beta_a(t) = \\frac{< M * R_a >(t)}{< M^2 >(t)}.$$\n",
    "\n",
    "The brackets perform a rolling average over 3750-minute windows, though G-Research did not explain (1) how it handles missing values for the purposes of computing 'Target', or (2) whether this window is centered around time 't' or biased left or right. $\\beta_a(t)$ functionally serves to rescale $M(t)$ such that $\\beta_a(t) M(t)$ represents a sort of 'expected' log-return $R_a(t)$ were the asset $a$ to follow market behavior. This justifies referring to the target as a residual log return. "
   ]
  },
  {
   "cell_type": "code",
   "execution_count": 7,
   "id": "9bb0a47b-ac21-4850-8112-13928c52b94c",
   "metadata": {
    "tags": []
   },
   "outputs": [
    {
     "data": {
      "text/html": [
       "<div>\n",
       "<style scoped>\n",
       "    .dataframe tbody tr th:only-of-type {\n",
       "        vertical-align: middle;\n",
       "    }\n",
       "\n",
       "    .dataframe tbody tr th {\n",
       "        vertical-align: top;\n",
       "    }\n",
       "\n",
       "    .dataframe thead th {\n",
       "        text-align: right;\n",
       "    }\n",
       "</style>\n",
       "<table border=\"1\" class=\"dataframe\">\n",
       "  <thead>\n",
       "    <tr style=\"text-align: right;\">\n",
       "      <th></th>\n",
       "      <th></th>\n",
       "      <th>Count</th>\n",
       "      <th>Open</th>\n",
       "      <th>High</th>\n",
       "      <th>Low</th>\n",
       "      <th>Close</th>\n",
       "      <th>Volume</th>\n",
       "      <th>VWAP</th>\n",
       "      <th>Target</th>\n",
       "    </tr>\n",
       "    <tr>\n",
       "      <th>Asset_ID</th>\n",
       "      <th>timestamp</th>\n",
       "      <th></th>\n",
       "      <th></th>\n",
       "      <th></th>\n",
       "      <th></th>\n",
       "      <th></th>\n",
       "      <th></th>\n",
       "      <th></th>\n",
       "      <th></th>\n",
       "    </tr>\n",
       "  </thead>\n",
       "  <tbody>\n",
       "    <tr>\n",
       "      <th rowspan=\"5\" valign=\"top\">0</th>\n",
       "      <th>1514764860</th>\n",
       "      <td>5.0</td>\n",
       "      <td>8.5300</td>\n",
       "      <td>8.5300</td>\n",
       "      <td>8.5300</td>\n",
       "      <td>8.5300</td>\n",
       "      <td>78.38</td>\n",
       "      <td>8.530000</td>\n",
       "      <td>-0.014399</td>\n",
       "    </tr>\n",
       "    <tr>\n",
       "      <th>1514764920</th>\n",
       "      <td>7.0</td>\n",
       "      <td>8.5300</td>\n",
       "      <td>8.5300</td>\n",
       "      <td>8.5145</td>\n",
       "      <td>8.5145</td>\n",
       "      <td>71.39</td>\n",
       "      <td>8.520215</td>\n",
       "      <td>-0.015875</td>\n",
       "    </tr>\n",
       "    <tr>\n",
       "      <th>1514764980</th>\n",
       "      <td>45.0</td>\n",
       "      <td>8.5065</td>\n",
       "      <td>8.5299</td>\n",
       "      <td>8.4848</td>\n",
       "      <td>8.4848</td>\n",
       "      <td>1546.82</td>\n",
       "      <td>8.501394</td>\n",
       "      <td>-0.015410</td>\n",
       "    </tr>\n",
       "    <tr>\n",
       "      <th>1514765040</th>\n",
       "      <td>14.0</td>\n",
       "      <td>8.5009</td>\n",
       "      <td>8.5066</td>\n",
       "      <td>8.4744</td>\n",
       "      <td>8.5009</td>\n",
       "      <td>125.80</td>\n",
       "      <td>8.479810</td>\n",
       "      <td>-0.012524</td>\n",
       "    </tr>\n",
       "    <tr>\n",
       "      <th>1514765100</th>\n",
       "      <td>5.0</td>\n",
       "      <td>8.5007</td>\n",
       "      <td>8.5007</td>\n",
       "      <td>8.4560</td>\n",
       "      <td>8.4560</td>\n",
       "      <td>125.01</td>\n",
       "      <td>8.458435</td>\n",
       "      <td>-0.005940</td>\n",
       "    </tr>\n",
       "  </tbody>\n",
       "</table>\n",
       "</div>"
      ],
      "text/plain": [
       "                     Count    Open    High     Low   Close   Volume      VWAP  \\\n",
       "Asset_ID timestamp                                                              \n",
       "0        1514764860    5.0  8.5300  8.5300  8.5300  8.5300    78.38  8.530000   \n",
       "         1514764920    7.0  8.5300  8.5300  8.5145  8.5145    71.39  8.520215   \n",
       "         1514764980   45.0  8.5065  8.5299  8.4848  8.4848  1546.82  8.501394   \n",
       "         1514765040   14.0  8.5009  8.5066  8.4744  8.5009   125.80  8.479810   \n",
       "         1514765100    5.0  8.5007  8.5007  8.4560  8.4560   125.01  8.458435   \n",
       "\n",
       "                       Target  \n",
       "Asset_ID timestamp             \n",
       "0        1514764860 -0.014399  \n",
       "         1514764920 -0.015875  \n",
       "         1514764980 -0.015410  \n",
       "         1514765040 -0.012524  \n",
       "         1514765100 -0.005940  "
      ]
     },
     "execution_count": 7,
     "metadata": {},
     "output_type": "execute_result"
    }
   ],
   "source": [
    "df.head()"
   ]
  },
  {
   "cell_type": "markdown",
   "id": "69fe1e44-5bd9-4a6a-84fb-dc680e720240",
   "metadata": {},
   "source": [
    "The 14-row table below maps each asset ID (Asset_ID) to an specific asset (Asset_Name). Each asset also has a 'Weight', defining the importance of that asset relative to others. The company G-Research defined these weight values, and I do not have access to information on how these weights were chosen. "
   ]
  },
  {
   "cell_type": "code",
   "execution_count": 8,
   "id": "f1a89fd6-a457-45a4-bed5-9876c6dcc773",
   "metadata": {
    "tags": []
   },
   "outputs": [
    {
     "data": {
      "text/html": [
       "<div>\n",
       "<style scoped>\n",
       "    .dataframe tbody tr th:only-of-type {\n",
       "        vertical-align: middle;\n",
       "    }\n",
       "\n",
       "    .dataframe tbody tr th {\n",
       "        vertical-align: top;\n",
       "    }\n",
       "\n",
       "    .dataframe thead th {\n",
       "        text-align: right;\n",
       "    }\n",
       "</style>\n",
       "<table border=\"1\" class=\"dataframe\">\n",
       "  <thead>\n",
       "    <tr style=\"text-align: right;\">\n",
       "      <th></th>\n",
       "      <th>Weight</th>\n",
       "      <th>Asset_Name</th>\n",
       "    </tr>\n",
       "    <tr>\n",
       "      <th>Asset_ID</th>\n",
       "      <th></th>\n",
       "      <th></th>\n",
       "    </tr>\n",
       "  </thead>\n",
       "  <tbody>\n",
       "    <tr>\n",
       "      <th>0</th>\n",
       "      <td>4.304065</td>\n",
       "      <td>Binance Coin</td>\n",
       "    </tr>\n",
       "    <tr>\n",
       "      <th>1</th>\n",
       "      <td>6.779922</td>\n",
       "      <td>Bitcoin</td>\n",
       "    </tr>\n",
       "    <tr>\n",
       "      <th>2</th>\n",
       "      <td>2.397895</td>\n",
       "      <td>Bitcoin Cash</td>\n",
       "    </tr>\n",
       "    <tr>\n",
       "      <th>3</th>\n",
       "      <td>4.406719</td>\n",
       "      <td>Cardano</td>\n",
       "    </tr>\n",
       "    <tr>\n",
       "      <th>4</th>\n",
       "      <td>3.555348</td>\n",
       "      <td>Dogecoin</td>\n",
       "    </tr>\n",
       "    <tr>\n",
       "      <th>5</th>\n",
       "      <td>1.386294</td>\n",
       "      <td>EOS.IO</td>\n",
       "    </tr>\n",
       "    <tr>\n",
       "      <th>6</th>\n",
       "      <td>5.894403</td>\n",
       "      <td>Ethereum</td>\n",
       "    </tr>\n",
       "    <tr>\n",
       "      <th>7</th>\n",
       "      <td>2.079442</td>\n",
       "      <td>Ethereum Classic</td>\n",
       "    </tr>\n",
       "    <tr>\n",
       "      <th>8</th>\n",
       "      <td>1.098612</td>\n",
       "      <td>IOTA</td>\n",
       "    </tr>\n",
       "    <tr>\n",
       "      <th>9</th>\n",
       "      <td>2.397895</td>\n",
       "      <td>Litecoin</td>\n",
       "    </tr>\n",
       "    <tr>\n",
       "      <th>10</th>\n",
       "      <td>1.098612</td>\n",
       "      <td>Maker</td>\n",
       "    </tr>\n",
       "    <tr>\n",
       "      <th>11</th>\n",
       "      <td>1.609438</td>\n",
       "      <td>Monero</td>\n",
       "    </tr>\n",
       "    <tr>\n",
       "      <th>12</th>\n",
       "      <td>2.079442</td>\n",
       "      <td>Stellar</td>\n",
       "    </tr>\n",
       "    <tr>\n",
       "      <th>13</th>\n",
       "      <td>1.791759</td>\n",
       "      <td>TRON</td>\n",
       "    </tr>\n",
       "  </tbody>\n",
       "</table>\n",
       "</div>"
      ],
      "text/plain": [
       "            Weight        Asset_Name\n",
       "Asset_ID                            \n",
       "0         4.304065      Binance Coin\n",
       "1         6.779922           Bitcoin\n",
       "2         2.397895      Bitcoin Cash\n",
       "3         4.406719           Cardano\n",
       "4         3.555348          Dogecoin\n",
       "5         1.386294            EOS.IO\n",
       "6         5.894403          Ethereum\n",
       "7         2.079442  Ethereum Classic\n",
       "8         1.098612              IOTA\n",
       "9         2.397895          Litecoin\n",
       "10        1.098612             Maker\n",
       "11        1.609438            Monero\n",
       "12        2.079442           Stellar\n",
       "13        1.791759              TRON"
      ]
     },
     "execution_count": 8,
     "metadata": {},
     "output_type": "execute_result"
    }
   ],
   "source": [
    "asset_details"
   ]
  },
  {
   "cell_type": "markdown",
   "id": "5a7f1625-cd79-4956-be89-82287f36a1f9",
   "metadata": {},
   "source": [
    "According to the table below, all features in the time-series dataframe are numerical. There are a total of 24 million rows. The only columns that have null values, VWAP and Target, have under 400 missing values each. We will decide how to handle these missing values later. "
   ]
  },
  {
   "cell_type": "code",
   "execution_count": 89,
   "id": "8f8f7e83-3420-433b-a230-e0d06706fb39",
   "metadata": {
    "tags": []
   },
   "outputs": [
    {
     "name": "stdout",
     "output_type": "stream",
     "text": [
      "<class 'pandas.core.frame.DataFrame'>\n",
      "RangeIndex: 24236806 entries, 0 to 24236805\n",
      "Data columns (total 10 columns):\n",
      " #   Column     Non-Null Count     Dtype  \n",
      "---  ------     --------------     -----  \n",
      " 0   timestamp  24236806 non-null  int64  \n",
      " 1   Asset_ID   24236806 non-null  int64  \n",
      " 2   Count      24236806 non-null  float64\n",
      " 3   Open       24236806 non-null  float64\n",
      " 4   High       24236806 non-null  float64\n",
      " 5   Low        24236806 non-null  float64\n",
      " 6   Close      24236806 non-null  float64\n",
      " 7   Volume     24236806 non-null  float64\n",
      " 8   VWAP       24236797 non-null  float64\n",
      " 9   Target     23486468 non-null  float64\n",
      "dtypes: float64(8), int64(2)\n",
      "memory usage: 1.8 GB\n"
     ]
    }
   ],
   "source": [
    "# Small number of missing values in \"VWAP\" and \"Target\". Should investigate why they are missing. \n",
    "df.info(show_counts = True)"
   ]
  },
  {
   "cell_type": "markdown",
   "id": "2ae5d257-9c68-4054-bedc-883562b926b0",
   "metadata": {},
   "source": [
    "Although there are few null values in our dataframe, we actually have many more missing values than it seems. For each cryptocurrency asset, we would expect a row of data for every minute, from the earliest timestamp to the latest timestamp available for that asset. But sometimes data for a minute is missing. See below for the percentage of missing rows for each asset. \n",
    "\n",
    "In the most extreme case, asset 10 ('Maker' cryptocurrency), we have 62% of our expected timestamps missing! This will certainly become an issue worth considering during model training and forecasting.\n",
    "\n",
    "The company G-Research did not provide an explanation of the missing data along with their datasets, so I do not know whether these timestamps are missing because of incomplete data collection or something else. "
   ]
  },
  {
   "cell_type": "code",
   "execution_count": 25,
   "id": "8de168c6-f00f-4202-b7e5-ab949f78bf0e",
   "metadata": {
    "tags": []
   },
   "outputs": [
    {
     "name": "stdout",
     "output_type": "stream",
     "text": [
      "For asset_id = 0, missing 0.73% timestamps\n",
      "For asset_id = 1, missing 0.03% timestamps\n",
      "For asset_id = 2, missing 0.17% timestamps\n",
      "For asset_id = 3, missing 0.66% timestamps\n",
      "For asset_id = 4, missing 9.97% timestamps\n",
      "For asset_id = 5, missing 0.09% timestamps\n",
      "For asset_id = 6, missing 0.04% timestamps\n",
      "For asset_id = 7, missing 0.30% timestamps\n",
      "For asset_id = 8, missing 10.16% timestamps\n",
      "For asset_id = 9, missing 0.05% timestamps\n",
      "For asset_id = 10, missing 62.12% timestamps\n",
      "For asset_id = 11, missing 13.07% timestamps\n",
      "For asset_id = 12, missing 5.85% timestamps\n",
      "For asset_id = 13, missing 1.54% timestamps\n"
     ]
    }
   ],
   "source": [
    "for asset_id in range(14):\n",
    "    num_expected = (df.loc[asset_id].iloc[-1].name - df.loc[asset_id].iloc[0].name) / 60  + 1\n",
    "    num_true = df.loc[asset_id].shape[0]\n",
    "    print(\"For asset_id = {}, missing {:.2f}% timestamps\".format(asset_id, 100 * (1 - num_true / num_expected)))"
   ]
  },
  {
   "cell_type": "markdown",
   "id": "e38d5fff-e792-4299-b8fc-928dfcba986f",
   "metadata": {},
   "source": [
    "Furthermore, the asset time series do not all start at the same time! Six assets, listed below, have data that starts later than the other assets."
   ]
  },
  {
   "cell_type": "code",
   "execution_count": 40,
   "id": "82874105-eacc-45d7-8121-f17e6ba622a8",
   "metadata": {
    "tags": []
   },
   "outputs": [
    {
     "name": "stdout",
     "output_type": "stream",
     "text": [
      "The earliest timestamp of all assets is 1514764860, and the latest timestamp is 1632182400\n",
      "But some assets start data collection at a different timestamp:\n",
      "The asset_ID 3's earliest timestamp is 1523956260\n",
      "The asset_ID 4's earliest timestamp is 1555079640\n",
      "The asset_ID 8's earliest timestamp is 1525853220\n",
      "The asset_ID 10's earliest timestamp is 1525965660\n",
      "The asset_ID 12's earliest timestamp is 1518825180\n",
      "The asset_ID 13's earliest timestamp is 1517953020\n"
     ]
    }
   ],
   "source": [
    "min_time = min(df.loc[asset_id].iloc[0].name for asset_id in range(14))\n",
    "max_time = max(df.loc[asset_id].iloc[-1].name for asset_id in range(14))\n",
    "print(\"The earliest timestamp of all assets is {}, and the latest timestamp is {}\".format(min_time, max_time))\n",
    "print('But some assets start data collection at a different timestamp:')\n",
    "for asset_id in range(14):\n",
    "    min_asset_time = df.loc[asset_id].iloc[0].name\n",
    "    max_asset_time = df.loc[asset_id].iloc[-1].name\n",
    "    if min_asset_time != min_time:\n",
    "        print(\"The asset_ID {}'s earliest timestamp is {}\".format(asset_id, min_asset_time))\n",
    "    if max_asset_time != max_time: \n",
    "        print(\"The asset_ID {}'s latest timestamp is {}\".format(asset_id, max_asset_time))"
   ]
  },
  {
   "cell_type": "markdown",
   "id": "5ac7402e-3317-40c0-b4e4-e84e3f03fcab",
   "metadata": {},
   "source": [
    "The bar plot below shows the asset weights for each cryptocurrency, reflecting the importance assigned by G-Research to each asset. "
   ]
  },
  {
   "cell_type": "code",
   "execution_count": 43,
   "id": "121af7c5-2d51-462f-9187-d5cc10b88274",
   "metadata": {
    "tags": []
   },
   "outputs": [
    {
     "data": {
      "image/png": "[encoded data removed]",
      "text/plain": [
       "<Figure size 720x360 with 1 Axes>"
      ]
     },
     "metadata": {
      "needs_background": "light"
     },
     "output_type": "display_data"
    }
   ],
   "source": [
    "fig, ax = plt.subplots(1,1, figsize = (10,5))\n",
    "asset_details.sort_values(by = \"Weight\", ascending = False).plot.bar(x = \"Asset_Name\", y = \"Weight\", ax = ax)\n",
    "ax.set_xlabel(\"Asset Name\", fontsize = 14)\n",
    "ax.set_ylabel(\"Asset Weight\", fontsize = 14)\n",
    "plt.title(\"Relative 'Importance' of Cryptocurrency Assets\", fontsize = 14)\n",
    "plt.show()"
   ]
  },
  {
   "cell_type": "markdown",
   "id": "57a6da92-0c24-42e3-b6d6-1da482772851",
   "metadata": {
    "tags": []
   },
   "source": [
    "#### <a id=\"1\"></a>\n",
    "# <p style=\"background-color:#8DB600;font-family:newtimeroman;color:#FFF9ED;font-size:100%;text-align:center;border-radius:10px 10px;\">Statistical Analysis of Time Series </p>"
   ]
  },
  {
   "cell_type": "markdown",
   "id": "8532681c-5cad-4523-8f5d-424e27d680ab",
   "metadata": {},
   "source": [
    "Below are plots of the target, for three example assets, over the course of 6 hours. Looking at these plots, we see that the curves seem to be centered around 0 with a fairly steady variance. Given these properties, it is worth checking -using the Dickey-Fuller test- whether the time series is in fact stationary. A stationary property to our time series may make forecasting somewhat easier. "
   ]
  },
  {
   "cell_type": "code",
   "execution_count": 59,
   "id": "13cd05a7-ea24-4834-93f0-d21901aa6b99",
   "metadata": {
    "tags": []
   },
   "outputs": [
    {
     "data": {
      "image/png": "[encoded data removed]",
      "text/plain": [
       "<Figure size 1080x288 with 1 Axes>"
      ]
     },
     "metadata": {
      "needs_background": "light"
     },
     "output_type": "display_data"
    }
   ],
   "source": [
    "fig, ax = plt.subplots(1,1,figsize = (15,4))\n",
    "for asset_id in range(3):\n",
    "    x = df.loc[asset_id].iloc[-6 * 60:].index \n",
    "    y = df.loc[asset_id].iloc[-6 * 60:].Target\n",
    "    plt.plot(x, y, label = asset_details.loc[asset_id, \"Asset_Name\"])\n",
    "plt.title(\"Target Values of a Few Assets, over 6 hours\", fontsize = 18)\n",
    "plt.legend(fontsize = 12)\n",
    "plt.xlabel(\"Timestamp\", fontsize = 16)\n",
    "plt.show()"
   ]
  },
  {
   "cell_type": "markdown",
   "id": "8c9d8387-d5b7-4a52-aae3-f2acb4a75b86",
   "metadata": {
    "tags": []
   },
   "source": [
    "I apply the Dickey Fuller test to check for stationarity of our time series, 'Target', for each asset, in the hidden code block below. Each time series has quite a few data points, so I restrict to only testing 100k data points each (about one tenth of each time series) for the sake of saving runtime.\n",
    "\n",
    "The p-values that result from the Dickey Fuller test are miniscule. They are all far smaller than necessary to satisfy the traditional 5% significance threshold, so the time series are stationary with very high certainty! This means, among other properties, that there are no significant trends in the mean or variance over time. For the purposes of forecasting, this means it will likely not be helpful to perform differencing or introduce a 'timestamp' feature for prediction purposes. "
   ]
  },
  {
   "cell_type": "code",
   "execution_count": 63,
   "id": "0537a826-9fab-4ef4-95a2-0ff0f2723d72",
   "metadata": {
    "collapsed": true,
    "jupyter": {
     "outputs_hidden": true
    },
    "tags": []
   },
   "outputs": [
    {
     "name": "stdout",
     "output_type": "stream",
     "text": [
      "The p-values from the Dickey-Fuller test are:  [0.0, 0.0, 0.0, 0.0, 0.0, 0.0, 0.0, 0.0, 0.0, 0.0, 0.0, 0.0, 0.0, 0.0]\n"
     ]
    }
   ],
   "source": [
    "# The p-values are so small that Python automatically rounds them down to zero! \n",
    "pvalues = [adfuller(df.loc[asset_id, \"Target\"].iloc[-100000:].dropna())[1] for asset_id in range(14)]\n",
    "print(\"The p-values from the Dickey-Fuller test are: \", pvalues)"
   ]
  },
  {
   "cell_type": "markdown",
   "id": "4e2a3ca6-6f97-4070-b406-33affc79a8bb",
   "metadata": {},
   "source": [
    "The weighted average of all assets, at any time, should vanish, based on the formal definition given by G-Research. This is proven in the expression below. But according to the plot below, the weighted average fails to vanish. It even stays at the same order of magnitude as the targets for each asset, indicating that its failure to vanish is not about accumulated numerical error in the components used to calculate it. \n",
    "\n",
    "$$\\frac{\\sum_a w_a \\text{Target}_a(t)}{\\sum_a w_a} = \\frac{\\sum_a w_a R_a(t)}{\\sum_a w_a} - \\frac{< M * \\sum_a R_a >(t)}{< M^2 >(t)} * M(t) = M(t) - \\frac{<M^2>(t)}{<M^2>(t)}\\, M(t) = 0\n",
    "$$\n",
    "\n",
    "There must be, I think, a subtlety in the code of how G-Research computes 'Target', which is not reflected in their definition and which causes this contradiction. I cannot look into this further because I don't have their code for computing the Target. \n",
    "\n",
    "Unfortunately, then, the Target lacks some nice properties that it should have had, and that might have aided forecasting. "
   ]
  },
  {
   "cell_type": "code",
   "execution_count": 71,
   "id": "9f0777e5-bad7-459e-bc5d-09fd7dd7ef42",
   "metadata": {
    "tags": []
   },
   "outputs": [
    {
     "data": {
      "image/png": "[encoded data removed]",
      "text/plain": [
       "<Figure size 1008x252 with 1 Axes>"
      ]
     },
     "metadata": {
      "needs_background": "light"
     },
     "output_type": "display_data"
    }
   ],
   "source": [
    "fig, ax = plt.subplots(1,1, figsize = (14,3.5))\n",
    "plt.plot(\n",
    "    sum(\n",
    "        df.loc[asset_id].iloc[-6 * 60:].Target \\\n",
    "        * asset_details.loc[asset_id, \"Weight\"] / asset_details.Weight.sum() \\\n",
    "    for asset_id in range(14)))\n",
    "plt.title(\"Weighted Average of All 14 Assets, over 6 Hours\", fontsize = 18)\n",
    "plt.xlabel(\"Timestamp\")\n",
    "plt.show()"
   ]
  },
  {
   "cell_type": "markdown",
   "id": "dd102c2e-7bbe-448c-bbc4-7b66b623c24d",
   "metadata": {},
   "source": [
    "Continuing our time series analysis, see the plot below for the autocorrelations for an example asset (Binance Coin). For time differences of 0 to 14 minutes, the autocorrelation is significant and positive. \n",
    "\n",
    "It would seem that the previous Target values 1-14 minutes, $\\text{Target}_a(t - 14), \\cdots, \\text{Target}_a(t - 1)$, should be highly beneficial for forecasting of the next target value, $\\text{Target}_a(t)$. However, this observation is unfortunately false. Recall that the Target is defined by asset price values 15 minutes into the future. We therefore *cannot* know, at time t, any Target value at times $t - 14$ onwards. \n",
    "\n",
    "We can only know target values at least 15 minutes into the past. We see that autocorrelations are, within 5% significance, vanishing at this degree of lag. This result is unfortunate yet entirely to-be-expected. After all, the efficient market hypothesis tells us that we should not be able predict the future asset values. A significant correlation would have defied this principle. "
   ]
  },
  {
   "cell_type": "code",
   "execution_count": 78,
   "id": "8d7f6922-57ac-490f-a002-eced492f268f",
   "metadata": {
    "tags": []
   },
   "outputs": [
    {
     "data": {
      "image/png": "[encoded data removed]",
      "text/plain": [
       "<Figure size 1008x216 with 1 Axes>"
      ]
     },
     "metadata": {
      "needs_background": "light"
     },
     "output_type": "display_data"
    }
   ],
   "source": [
    "# Autocorrelation\n",
    "fig, ax = plt.subplots(1,1,figsize = (14,3))\n",
    "plot_acf(df.loc[0].Target.dropna().iloc[-30000:], lags = 50, ax = ax)\n",
    "plt.ylim(-0.1, 1.05)\n",
    "plt.xlabel(\"Minutes Elapsed\", fontsize = 14)\n",
    "plt.title(\"Autocorrelation\", fontsize = 18)\n",
    "plt.show()"
   ]
  },
  {
   "cell_type": "code",
   "execution_count": null,
   "id": "ab6eaf41-b4c3-4d1a-8da2-7d09a835f28c",
   "metadata": {
    "tags": []
   },
   "outputs": [],
   "source": [
    "# These are Granger-Causality Tests, used to check whether one time series can be used for forecast another. \n",
    "# But in retrospect these tests didn't make much sense to run. Even autocorrelations within the SAME time series show no predictive \n",
    "# value (through direct correlation). It is unfeasible that different asset time series would have a strong Granger-causality, when the same-asset time series does not.\n",
    "# It is not worth running. If it were, I should lag one time series by fifteen minutes to ensure that I'm respecting what I could possibly know while forecasting\n",
    "# the other. \n",
    "\n",
    "# # Granger Causality Tests \n",
    "# n_asset = 2\n",
    "# maxlag = 3\n",
    "# test_type = \"ssr_chi2test\"\n",
    "# granger_matrix = [[None for _ in range(n_asset)] for _ in range(n_asset)]\n",
    "\n",
    "# for i in range(n_asset):\n",
    "#     for j in range(n_asset):\n",
    "#         # skip diagonals\n",
    "#         if i == j: continue\n",
    "        \n",
    "#         # get time series data for the two assets\n",
    "#         target1, target2 = df.loc[i, \"Target\"].dropna(), df.loc[j, \"Target\"].dropna()\n",
    "#         target1, target2 = pad_series(target1), pad_series(target2) # fill in missing time points in each time series \n",
    "#         merged = pd.merge(target1, target2, how = \"inner\", left_index = True, right_index = True, suffixes = (\"_1\", \"_2\"))\n",
    "        \n",
    "#         # granger causality test \n",
    "\n",
    "#         test_result = grangercausalitytests(merged, maxlag = maxlag, verbose = 0) # Target_1: response. Target_2: predictor. \n",
    "#         p_values = [round(test_result[k + 1][0][test_type][1], 4) for k in range(maxlag)] \n",
    "#         min_p_value = np.min(p_values)\n",
    "        \n",
    "#         # save in matrix\n",
    "#         granger_matrix[i][j] = min_p_value\n",
    "        \n",
    "# asset_list = list(asset_details.sort_values(by = \"Asset_ID\").Asset_Name.values)\n",
    "# pd.DataFrame(granger_matrix, columns = asset_list[:n_asset], index = asset_list[:n_asset])"
   ]
  },
  {
   "cell_type": "markdown",
   "id": "ae578e62-0eda-4f55-b30c-03fbf9e997b9",
   "metadata": {
    "tags": []
   },
   "source": [
    "#### <a id=\"1\"></a>\n",
    "# <p style=\"background-color:#8DB600;font-family:newtimeroman;color:#FFF9ED;font-size:100%;text-align:center;border-radius:10px 10px;\">Feature Engineering and Feature Selection</p>"
   ]
  },
  {
   "cell_type": "markdown",
   "id": "07dece81-cf65-4f1b-8d6a-f5a60da968f8",
   "metadata": {},
   "source": [
    "At this point, I could immediately create a forecasting model, using the features I have already been given (Count, Open, Close, High, Low, Volume, VWAP). However, we should suspect that feature engineering has the potential to significantly increase our predictive power. After all, financial analysis use a very large variety of technical indicators to understand and forecast the market. I'll engineer and add a few new features to our dataframe, listed below. They are only a very small subset, however, of features that could be useful. Were I to keep working on improving my forecasting model, I think further feature engineering would be the best investment of time. \n",
    "\n",
    "* Upper Shadow: Difference between maximum price in time interval, and maximum of Open and Close. Some financial analysis believe that a large Upper Shadow implies a soon-to-be downturn. \n",
    "* Lower Shadow: Difference between minimum price in time interval, and minimum of Open and Close. Some financial analysis believe that a large Lower Shadow implies a soon-to-be rise. \n",
    "* Target (Shifted): The target itself can be used as a feature, as long as we only use the target values we would know at the time of prediction, i.e. 15 minutes before.\n",
    "* Log Return (15 minute time period): Log return, defined in the 'Data Overview' section, is a component of the Target.\n",
    "* Weighted Average of Market Returns over All Assets: This is the market behavior, M(t), defined in the 'Data Overview' section. \n",
    "* Rolling Average of Target: The rolling average of the target should be taken over some window of time, and the size of this window is to-be-determined. \n",
    "* Rolling Standard Deviation of Target: The rolling standard deviation should describe overall volatility in recent times. The size of this window is to-be-determined.\n",
    "\n",
    "After engineering these features, I'll perform feature selection, using Pearson correlation coefficients between every feature and the true Target to be predicted. This will help us decide which features to use in the final model. "
   ]
  },
  {
   "cell_type": "markdown",
   "id": "53218d97-fcbc-4a69-9deb-0cc511a72bf1",
   "metadata": {},
   "source": [
    "In the hidden code block below, I engineer the first 5 features listed earlier. "
   ]
  },
  {
   "cell_type": "code",
   "execution_count": 104,
   "id": "7d7d9554-9f86-48ba-b551-52989341d35a",
   "metadata": {
    "tags": []
   },
   "outputs": [],
   "source": [
    "# FEATURE CREATION \n",
    "\n",
    "# Upper Shadow\n",
    "df[\"UpperShadow\"] = df.apply(lambda row: row.High - max(row.Close, row.Open), axis = 1)\n",
    "\n",
    "# Lower Shadow\n",
    "df[\"LowerShadow\"] = df.apply(lambda row: min(row.Close, row.Open) - row.Low, axis = 1)\n",
    "                                     \n",
    "# Shifted-Target\n",
    "for asset_id in range(14):\n",
    "    df.loc[asset_id, \"TargetShifted\"] = df.loc[asset_id].Target.shift(16).values\n",
    "    \n",
    "# Log-Returns over last 15 minutes \n",
    "for asset_id in range(14):\n",
    "    log_return_15 = np.log(df.loc[asset_id].Close) - np.log(df.loc[asset_id].Close.shift(15)) \n",
    "    df.loc[asset_id, \"15_LogReturn\"] = log_return_15.values \n",
    "    \n",
    "# Weighted Average of Market Returns, M(t), over 15 minutes, M(t) = sum_a w_a R_a(t)\n",
    "market_return = pd.Series(sum(asset_details.loc[asset_id, \"Normalized_Weight\"] \\\n",
    "    * df.loc[asset_id].reindex(range(min_time, max_time + 60, 60), method = \"pad\").loc[:, \"15_LogReturn\"].values \\\n",
    "    for asset_id in range(14)), index = range(min_time, max_time + 60, 60))\n",
    "for asset_id in range(14):\n",
    "    df.loc[asset_id, \"15_MarketReturn\"] = market_return.loc[df.loc[asset_id].index].values"
   ]
  },
  {
   "cell_type": "markdown",
   "id": "078fc40a-8067-4d94-8993-7fe0c3fcd21c",
   "metadata": {},
   "source": [
    "We also want to add features for the rolling average and rolling standard deviations of the target, but we need to choose the window size for the rolling statistics. To do this, I compute the rolling statistics for a range of window sizes, and choose the window size that involves the largest-magnitude Pearson correlation with the to-be-predicted Target. This is not a perfect method, because it ignores the possibility of non-linear relationships and information that may be gained from interactions between the rolling statistic and other features. But in the absence of these problems, which is hopefully the case, it is both a good and a simple method. \n",
    "\n",
    "Using the produced plots (hidden below), I find that 10-minutes for a rolling average window size and 20-minutes for a rolling standard deviation window size are sufficient to get a nearly maximal correlation-coefficient magnitude. I then make these features, also in the hidden code blocks below. "
   ]
  },
  {
   "cell_type": "code",
   "execution_count": null,
   "id": "be04069b-5ebf-49ff-a18b-273f89639a7d",
   "metadata": {
    "tags": []
   },
   "outputs": [],
   "source": [
    "# Identifying which window size to use for a rolling average feature \n",
    "\n",
    "# Calculate correlation coefficient between target and rolling average\n",
    "# Arguments: asset_ID, window_size to be tested, n_timepoints: the number of data points to use in the time series for computing the correlation coefficient.\n",
    "# A larger n_timepoints is better, but takes more time. \n",
    "def correlation_coefficient_rolling(asset_id: int, window_size: int, n_timepoints: int): \n",
    "    rolled = df.loc[asset_id].TargetShifted.dropna().rolling(window_size, center = False).mean().iloc[-n_timepoints:]\n",
    "    true = df.loc[asset_id].Target.dropna().iloc[-n_timepoints:]\n",
    "    \n",
    "    rolled_vs_true = pd.concat(\n",
    "        [rolled, true], axis = 1).dropna()\n",
    "    \n",
    "    return np.corrcoef(rolled_vs_true.iloc[:, 0], rolled_vs_true.iloc[:, 1])[0,1]\n",
    "\n",
    "\n",
    "# Getting the numpy array correlations to carry the correlation coefficient for many window sizes \n",
    "window_sizes = range(1,100,5) # not much else going on beyond 100 \n",
    "n_timepoints = 30000\n",
    "\n",
    "correlations = np.array([0.0] * len(window_sizes))\n",
    "for asset_id in range(14):\n",
    "    weight = asset_details.loc[asset_id, \"Normalized_Weight\"]\n",
    "    correlations += weight * np.array([correlation_coefficient_rolling(asset_id, window_size, n_timepoints) for window_size in window_sizes])\n",
    "    \n",
    "# Plotting\n",
    "plt.scatter(window_sizes, correlations)\n",
    "plt.title(\"Correlation coefficient between Target and TargetShifted Rolling Average, as function of Window Size\")\n",
    "plt.show()"
   ]
  },
  {
   "cell_type": "code",
   "execution_count": null,
   "id": "ef941c2a-d7d4-4eec-915a-e4be90734fa7",
   "metadata": {
    "tags": []
   },
   "outputs": [],
   "source": [
    "# Identifying which window size to use for a rolling standard-deviation feature \n",
    "\n",
    "# Calculate correlation coefficient between target and rolling standard-deviation\n",
    "# Arguments: asset_ID, window_size to be tested, n_timepoints: the number of data points to use in the time series for computing the correlation coefficient.\n",
    "# A larger n_timepoints is better, but takes more time. \n",
    "def correlation_coefficient_rolling_std(asset_id: int, window_size: int, n_timepoints: int): \n",
    "    rolled = df.loc[asset_id].TargetShifted.dropna().rolling(window_size, center = False).std().iloc[-n_timepoints:]\n",
    "    true = df.loc[asset_id].Target.dropna().iloc[-n_timepoints:]\n",
    "    \n",
    "    rolled_vs_true = pd.concat(\n",
    "        [rolled, true], axis = 1).dropna()\n",
    "    \n",
    "    return np.corrcoef(rolled_vs_true.iloc[:, 0], rolled_vs_true.iloc[:, 1])[0,1]\n",
    "\n",
    "\n",
    "# Getting the numpy array correlations to carry the correlation coefficient for many window sizes \n",
    "window_sizes = range(1,100,5) # not much else going on beyond 100 \n",
    "n_timepoints = 100000\n",
    "\n",
    "correlations = np.array([0.0] * len(window_sizes))\n",
    "for asset_id in range(14):\n",
    "    weight = asset_details.loc[asset_id, \"Normalized_Weight\"]\n",
    "    correlations += weight * np.array([correlation_coefficient_rolling_std(asset_id, window_size, n_timepoints) for window_size in window_sizes])\n",
    "\n",
    "# Plotting correlations for varying window sizes \n",
    "plt.scatter(window_sizes, correlations)\n",
    "plt.title(\"Correlation coefficient between Target and TargetShifted Rolling Standard Deviation, as function of Window Size\")\n",
    "plt.show()"
   ]
  },
  {
   "cell_type": "code",
   "execution_count": 17,
   "id": "602d129b-1f88-4b6c-b1d3-b0c264c6d72b",
   "metadata": {
    "tags": []
   },
   "outputs": [],
   "source": [
    "# Moving Average of Shifted-Target over Last 10 Minutes \n",
    "df.insert(len(df.columns), \"10MovingAvg_TargetShifted\", np.nan)\n",
    "window_size = 10\n",
    "for asset_id in range(14):\n",
    "    rolled = df.loc[asset_id].TargetShifted.dropna().rolling(window_size, center = False).mean() # Get rolling averages\n",
    "    rolled = rolled.reindex(df.loc[asset_id].index) # Give 'rolled' the same indices as df.loc[asset_id], so that timestamps without values are given np.nan\n",
    "    df.loc[asset_id, \"10MovingAvg_TargetShifted\"] = rolled.values # Assign \n",
    "    \n",
    "# Moving Standard-Deviation of Shifted-Target over Last 20 Minutes  \n",
    "df.insert(len(df.columns), \"20MovingStd_TargetShifted\", np.nan)\n",
    "window_size = 20\n",
    "for asset_id in range(14):\n",
    "    rolled = df.loc[asset_id].TargetShifted.dropna().rolling(window_size, center = False).std() # Get rolling standard deviations\n",
    "    rolled = rolled.reindex(df.loc[asset_id].index) # Give 'rolled' the same indices as df.loc[asset_id], so that timestamps without values are given np.nan\n",
    "    df.loc[asset_id, \"20MovingStd_TargetShifted\"] = rolled.values # Assign "
   ]
  },
  {
   "cell_type": "markdown",
   "id": "8c41b942-e1ad-4441-b28d-bb48096d3e26",
   "metadata": {},
   "source": [
    "The steps above were time-consuming, so I save the intermediate dataframe I've made in a separate file and load it back when needed. "
   ]
  },
  {
   "cell_type": "code",
   "execution_count": null,
   "id": "4062a793-1dba-43c6-b7d1-9527da2265f3",
   "metadata": {
    "tags": []
   },
   "outputs": [],
   "source": [
    "# # Save results of feature engineering\n",
    "# df.to_csv(\"df_featured.csv\")"
   ]
  },
  {
   "cell_type": "code",
   "execution_count": 108,
   "id": "bf27c21d-68aa-4296-beb2-160185467834",
   "metadata": {
    "tags": []
   },
   "outputs": [],
   "source": [
    "# Loading intermediate dataframe. \n",
    "df = pd.read_csv(\"df_featured.csv\")\n",
    "df = df.set_index(keys = [\"Asset_ID\", \"timestamp\"]).sort_index()"
   ]
  },
  {
   "cell_type": "markdown",
   "id": "6a61031f-3e9c-47c7-9667-02060447c859",
   "metadata": {},
   "source": [
    "In the code block below, I reorganize my dataframe. Up to now, 'asset_ID' was part of a multi-index along with 'tiestamp', so that data for different assets lies in different rows. Now I pivot my dataframe, so that the index contains only the 'timestamp', and each row contains all the features for every asset. "
   ]
  },
  {
   "cell_type": "code",
   "execution_count": null,
   "id": "af7152a2-b3a3-4ecb-92ef-536382be7a57",
   "metadata": {
    "tags": []
   },
   "outputs": [],
   "source": [
    "# Make columns include all assets.\n",
    "# Any missing times will be added in \n",
    "df_flattened = pd.DataFrame()\n",
    "for any_asset_id in range(14):\n",
    "    partial = df.loc[any_asset_id].reindex(range(min_time, max_time + 60, 60)).add_suffix(any_asset_id)\n",
    "    df_flattened = pd.concat([df_padded, partial], axis = 1)  \n",
    "    \n",
    "# Define column names \n",
    "target_cols = [\"Target\" + str(asset_id) for asset_id in range(14)]\n",
    "feature_cols = [col for col in df_padded.columns if col not in target_cols]\n",
    "\n",
    "# Fill in any missing values in feature columns, using forward fill \n",
    "df_flattened.loc[:, feature_cols].fillna(method = \"pad\", inplace = True)"
   ]
  },
  {
   "cell_type": "markdown",
   "id": "c3f3d166-8f1a-41c5-a952-f60da93dce23",
   "metadata": {},
   "source": [
    "Now I perform feature selection to decide which features I might keep for my forecasting model. I do this by checking Pearson correlations between each feature and the desired Target, and I keep only the features above a certain threshold. I decided on this threshold through trial and error, by testing what threshold worked best to optimize my forecasting model. Specifically, in the table below, features are listed from largest to smallest median-absolute correlation coefficient. I choose to drop every feature from 'LowerShadow' down, with a threshold of 0.0045. "
   ]
  },
  {
   "cell_type": "code",
   "execution_count": 91,
   "id": "f544ed5e-4a0e-482e-abdc-6b8e3d7b0e24",
   "metadata": {
    "tags": []
   },
   "outputs": [],
   "source": [
    "# Correlations between each feature and the target \n",
    "correlations = pd.DataFrame()\n",
    "for col_base in [\"TargetShifted\", \"LowerShadow\", \"UpperShadow\", \"Volume\", \"Count\", \"Open\", \"Close\", \"High\", \"Low\", \"VWAP\", \\\n",
    "                 \"10MovingAvg_TargetShifted\", \"20MovingStd_TargetShifted\", \"15_LogReturn\", \"15_MarketReturn\"]:\n",
    "    cols = [col_base + str(asset_id) for asset_id in range(14)] + [\"Target\" + str(asset_id) for asset_id in range(14)]\n",
    "    corr = df[cols].corr()\n",
    "    median = np.median(abs(corr.iloc[14:, :14].to_numpy()))\n",
    "    mean = np.mean(abs(corr.iloc[14:, :14].to_numpy()))\n",
    "    std = np.std(abs(corr.iloc[14:, :14].to_numpy()))\n",
    "    correlations = pd.concat([correlations, pd.DataFrame([[median, mean, std]], index = [col_base], \n",
    "                                                         columns = [\"Median Abs Correlation\", \"Mean Abs Correlation\", \"Std Abs Correlation\"])], axis = 0)"
   ]
  },
  {
   "cell_type": "code",
   "execution_count": 92,
   "id": "53fa5cf9-5b47-4543-9792-2c773573b5d5",
   "metadata": {
    "tags": []
   },
   "outputs": [
    {
     "data": {
      "text/html": [
       "<div>\n",
       "<style scoped>\n",
       "    .dataframe tbody tr th:only-of-type {\n",
       "        vertical-align: middle;\n",
       "    }\n",
       "\n",
       "    .dataframe tbody tr th {\n",
       "        vertical-align: top;\n",
       "    }\n",
       "\n",
       "    .dataframe thead th {\n",
       "        text-align: right;\n",
       "    }\n",
       "</style>\n",
       "<table border=\"1\" class=\"dataframe\">\n",
       "  <thead>\n",
       "    <tr style=\"text-align: right;\">\n",
       "      <th></th>\n",
       "      <th>Median Abs Correlation</th>\n",
       "      <th>Mean Abs Correlation</th>\n",
       "      <th>Std Abs Correlation</th>\n",
       "    </tr>\n",
       "  </thead>\n",
       "  <tbody>\n",
       "    <tr>\n",
       "      <th>15_LogReturn</th>\n",
       "      <td>0.009597</td>\n",
       "      <td>0.013984</td>\n",
       "      <td>0.013229</td>\n",
       "    </tr>\n",
       "    <tr>\n",
       "      <th>TargetShifted</th>\n",
       "      <td>0.006725</td>\n",
       "      <td>0.008492</td>\n",
       "      <td>0.007567</td>\n",
       "    </tr>\n",
       "    <tr>\n",
       "      <th>10MovingAvg_TargetShifted</th>\n",
       "      <td>0.005906</td>\n",
       "      <td>0.007439</td>\n",
       "      <td>0.006191</td>\n",
       "    </tr>\n",
       "    <tr>\n",
       "      <th>20MovingStd_TargetShifted</th>\n",
       "      <td>0.005373</td>\n",
       "      <td>0.006439</td>\n",
       "      <td>0.004869</td>\n",
       "    </tr>\n",
       "    <tr>\n",
       "      <th>15_MarketReturn</th>\n",
       "      <td>0.005103</td>\n",
       "      <td>0.013810</td>\n",
       "      <td>0.016170</td>\n",
       "    </tr>\n",
       "    <tr>\n",
       "      <th>Count</th>\n",
       "      <td>0.004674</td>\n",
       "      <td>0.005709</td>\n",
       "      <td>0.004993</td>\n",
       "    </tr>\n",
       "    <tr>\n",
       "      <th>LowerShadow</th>\n",
       "      <td>0.004285</td>\n",
       "      <td>0.005867</td>\n",
       "      <td>0.005454</td>\n",
       "    </tr>\n",
       "    <tr>\n",
       "      <th>Volume</th>\n",
       "      <td>0.003977</td>\n",
       "      <td>0.005545</td>\n",
       "      <td>0.005660</td>\n",
       "    </tr>\n",
       "    <tr>\n",
       "      <th>UpperShadow</th>\n",
       "      <td>0.003815</td>\n",
       "      <td>0.005508</td>\n",
       "      <td>0.005251</td>\n",
       "    </tr>\n",
       "    <tr>\n",
       "      <th>High</th>\n",
       "      <td>0.002222</td>\n",
       "      <td>0.002873</td>\n",
       "      <td>0.002360</td>\n",
       "    </tr>\n",
       "    <tr>\n",
       "      <th>Open</th>\n",
       "      <td>0.002187</td>\n",
       "      <td>0.002857</td>\n",
       "      <td>0.002343</td>\n",
       "    </tr>\n",
       "    <tr>\n",
       "      <th>VWAP</th>\n",
       "      <td>0.002166</td>\n",
       "      <td>0.002852</td>\n",
       "      <td>0.002344</td>\n",
       "    </tr>\n",
       "    <tr>\n",
       "      <th>Close</th>\n",
       "      <td>0.002151</td>\n",
       "      <td>0.002848</td>\n",
       "      <td>0.002345</td>\n",
       "    </tr>\n",
       "    <tr>\n",
       "      <th>Low</th>\n",
       "      <td>0.002125</td>\n",
       "      <td>0.002834</td>\n",
       "      <td>0.002333</td>\n",
       "    </tr>\n",
       "  </tbody>\n",
       "</table>\n",
       "</div>"
      ],
      "text/plain": [
       "                           Median Abs Correlation  Mean Abs Correlation  \\\n",
       "15_LogReturn                             0.009597              0.013984   \n",
       "TargetShifted                            0.006725              0.008492   \n",
       "10MovingAvg_TargetShifted                0.005906              0.007439   \n",
       "20MovingStd_TargetShifted                0.005373              0.006439   \n",
       "15_MarketReturn                          0.005103              0.013810   \n",
       "Count                                    0.004674              0.005709   \n",
       "LowerShadow                              0.004285              0.005867   \n",
       "Volume                                   0.003977              0.005545   \n",
       "UpperShadow                              0.003815              0.005508   \n",
       "High                                     0.002222              0.002873   \n",
       "Open                                     0.002187              0.002857   \n",
       "VWAP                                     0.002166              0.002852   \n",
       "Close                                    0.002151              0.002848   \n",
       "Low                                      0.002125              0.002834   \n",
       "\n",
       "                           Std Abs Correlation  \n",
       "15_LogReturn                          0.013229  \n",
       "TargetShifted                         0.007567  \n",
       "10MovingAvg_TargetShifted             0.006191  \n",
       "20MovingStd_TargetShifted             0.004869  \n",
       "15_MarketReturn                       0.016170  \n",
       "Count                                 0.004993  \n",
       "LowerShadow                           0.005454  \n",
       "Volume                                0.005660  \n",
       "UpperShadow                           0.005251  \n",
       "High                                  0.002360  \n",
       "Open                                  0.002343  \n",
       "VWAP                                  0.002344  \n",
       "Close                                 0.002345  \n",
       "Low                                   0.002333  "
      ]
     },
     "execution_count": 92,
     "metadata": {},
     "output_type": "execute_result"
    }
   ],
   "source": [
    "# Drop everything below some threshold. Let's say every feature at \"LowerShadow\" or below. \n",
    "correlations.sort_values(by = \"Median Abs Correlation\", ascending = False)"
   ]
  },
  {
   "cell_type": "markdown",
   "id": "0ad97523-e4c4-4ac8-9fee-ce29b74ab7a5",
   "metadata": {},
   "source": [
    "I've selected only the following features down to (and including) the feature 'Count', from the table above. I want to derive new features *from* these features, specifically how they change in time, defined as their value at the most recently known time point, subtracted by their value at an earlier time point some number of lags away. I then select the features I want to keep by the same method using Pearson correlations. "
   ]
  },
  {
   "cell_type": "code",
   "execution_count": 4,
   "id": "783904d4-71fc-4ceb-9dac-9b4b1702d595",
   "metadata": {
    "tags": []
   },
   "outputs": [],
   "source": [
    "# Get lagged dataframe, using lags 5 and 10.  \n",
    "lags = [5, 10]\n",
    "df_lagged = pd.concat(\n",
    "    [df.add_suffix(\"_lag0\")] +\n",
    "    [df[[col for col in df.columns if ((\"Target\" not in col) | (\"TargetShifted\" in col))]].shift(lag).add_suffix(\"_lag\" + str(lag)) for lag in lags], \n",
    "    axis = 1)"
   ]
  },
  {
   "cell_type": "code",
   "execution_count": 25,
   "id": "5e3c401a-6d44-4615-9c6e-b93d2534b358",
   "metadata": {
    "tags": []
   },
   "outputs": [],
   "source": [
    "# Get correlations between Lag-10 features and Target. \n",
    "select_features = [\"15_LogReturn\", \"TargetShifted\", \"10MovingAvg_TargetShifted\", \"20MovingStd_TargetShifted\", \"15_MarketReturn\"]\n",
    "for feature in select_features:\n",
    "    for asset_id in range(14): \n",
    "        df_lagged[feature + \"_Slope10\" + str(asset_id)] = df_lagged[feature + str(asset_id) + \"_lag0\"] - df_lagged[feature + str(asset_id) + \"_lag10\"]\n",
    "        \n",
    "correlations = pd.DataFrame()\n",
    "targets = [\"Target\" + str(asset_id) + \"_lag0\" for asset_id in range(14)]\n",
    "\n",
    "for feature in select_features:\n",
    "    cols = [feature + \"_Slope10\" + str(asset_id) for asset_id in range(14)] + targets\n",
    "    corr = df_lagged[cols].corr()\n",
    "    maximum = np.max(abs(corr.iloc[14:, :14].to_numpy()))\n",
    "    median = np.median(abs(corr.iloc[14:, :14].to_numpy()))\n",
    "    mean = np.mean(abs(corr.iloc[14:, :14].to_numpy()))\n",
    "    std = np.std(abs(corr.iloc[14:, :14].to_numpy()))\n",
    "    correlations = pd.concat([correlations, pd.DataFrame([[median, maximum, mean, std]], index = [feature + \"_Slope10\"], \n",
    "                                                         columns = [\"Median Abs Correlation\", \"Maximum\",  \"Mean\", \"Std\"])], axis = 0)"
   ]
  },
  {
   "cell_type": "code",
   "execution_count": 27,
   "id": "3c616e77-7f82-4868-b7be-cb89fd0d1d03",
   "metadata": {
    "tags": []
   },
   "outputs": [
    {
     "data": {
      "text/html": [
       "<div>\n",
       "<style scoped>\n",
       "    .dataframe tbody tr th:only-of-type {\n",
       "        vertical-align: middle;\n",
       "    }\n",
       "\n",
       "    .dataframe tbody tr th {\n",
       "        vertical-align: top;\n",
       "    }\n",
       "\n",
       "    .dataframe thead th {\n",
       "        text-align: right;\n",
       "    }\n",
       "</style>\n",
       "<table border=\"1\" class=\"dataframe\">\n",
       "  <thead>\n",
       "    <tr style=\"text-align: right;\">\n",
       "      <th></th>\n",
       "      <th>Median Abs Correlation</th>\n",
       "      <th>Maximum</th>\n",
       "      <th>Mean</th>\n",
       "      <th>Std</th>\n",
       "    </tr>\n",
       "  </thead>\n",
       "  <tbody>\n",
       "    <tr>\n",
       "      <th>15_MarketReturn_Slope10</th>\n",
       "      <td>0.011585</td>\n",
       "      <td>0.031059</td>\n",
       "      <td>0.012633</td>\n",
       "      <td>0.008792</td>\n",
       "    </tr>\n",
       "    <tr>\n",
       "      <th>15_LogReturn_Slope10</th>\n",
       "      <td>0.008575</td>\n",
       "      <td>0.038909</td>\n",
       "      <td>0.010130</td>\n",
       "      <td>0.007330</td>\n",
       "    </tr>\n",
       "    <tr>\n",
       "      <th>TargetShifted_Slope10</th>\n",
       "      <td>0.004234</td>\n",
       "      <td>0.026974</td>\n",
       "      <td>0.005433</td>\n",
       "      <td>0.004867</td>\n",
       "    </tr>\n",
       "    <tr>\n",
       "      <th>10MovingAvg_TargetShifted_Slope10</th>\n",
       "      <td>0.004035</td>\n",
       "      <td>0.023398</td>\n",
       "      <td>0.004886</td>\n",
       "      <td>0.003904</td>\n",
       "    </tr>\n",
       "    <tr>\n",
       "      <th>20MovingStd_TargetShifted_Slope10</th>\n",
       "      <td>0.003160</td>\n",
       "      <td>0.015695</td>\n",
       "      <td>0.003842</td>\n",
       "      <td>0.002895</td>\n",
       "    </tr>\n",
       "  </tbody>\n",
       "</table>\n",
       "</div>"
      ],
      "text/plain": [
       "                                   Median Abs Correlation   Maximum      Mean  \\\n",
       "15_MarketReturn_Slope10                          0.011585  0.031059  0.012633   \n",
       "15_LogReturn_Slope10                             0.008575  0.038909  0.010130   \n",
       "TargetShifted_Slope10                            0.004234  0.026974  0.005433   \n",
       "10MovingAvg_TargetShifted_Slope10                0.004035  0.023398  0.004886   \n",
       "20MovingStd_TargetShifted_Slope10                0.003160  0.015695  0.003842   \n",
       "\n",
       "                                        Std  \n",
       "15_MarketReturn_Slope10            0.008792  \n",
       "15_LogReturn_Slope10               0.007330  \n",
       "TargetShifted_Slope10              0.004867  \n",
       "10MovingAvg_TargetShifted_Slope10  0.003904  \n",
       "20MovingStd_TargetShifted_Slope10  0.002895  "
      ]
     },
     "execution_count": 27,
     "metadata": {},
     "output_type": "execute_result"
    }
   ],
   "source": [
    "# Correlations between Target and Lag-10 features \n",
    "correlations.sort_values(by = \"Median Abs Correlation\", ascending = False)"
   ]
  },
  {
   "cell_type": "code",
   "execution_count": 28,
   "id": "d8cbc981-f9bf-4044-902b-c0104811d06c",
   "metadata": {
    "tags": []
   },
   "outputs": [],
   "source": [
    "# Get correlations between Lag-5 features and Target. \n",
    "\n",
    "select_features = [\"15_LogReturn\", \"TargetShifted\", \"10MovingAvg_TargetShifted\", \"20MovingStd_TargetShifted\", \"15_MarketReturn\"]\n",
    "for feature in select_features:\n",
    "    for asset_id in range(14): \n",
    "        df_lagged[feature + \"_Slope5\" + str(asset_id)] = df_lagged[feature + str(asset_id) + \"_lag0\"] - df_lagged[feature + str(asset_id) + \"_lag5\"]\n",
    "        \n",
    "# Correlations with unlagged dataframe\n",
    "correlations = pd.DataFrame()\n",
    "targets = [\"Target\" + str(asset_id) + \"_lag0\" for asset_id in range(14)]\n",
    "\n",
    "for feature in select_features:\n",
    "    cols = [feature + \"_Slope5\" + str(asset_id) for asset_id in range(14)] + targets\n",
    "    corr = df_lagged[cols].corr()\n",
    "    maximum = np.max(abs(corr.iloc[14:, :14].to_numpy()))\n",
    "    median = np.median(abs(corr.iloc[14:, :14].to_numpy()))\n",
    "    mean = np.mean(abs(corr.iloc[14:, :14].to_numpy()))\n",
    "    std = np.std(abs(corr.iloc[14:, :14].to_numpy()))\n",
    "    correlations = pd.concat([correlations, pd.DataFrame([[median, maximum, mean, std]], index = [feature + \"_Slope5\"], \n",
    "                                                         columns = [\"Median Abs Correlation\", \"Maximum\",  \"Mean\", \"Std\"])], axis = 0)"
   ]
  },
  {
   "cell_type": "code",
   "execution_count": 30,
   "id": "3a5c37a1-9301-4170-8618-b7502d93fc9e",
   "metadata": {
    "tags": []
   },
   "outputs": [
    {
     "data": {
      "text/html": [
       "<div>\n",
       "<style scoped>\n",
       "    .dataframe tbody tr th:only-of-type {\n",
       "        vertical-align: middle;\n",
       "    }\n",
       "\n",
       "    .dataframe tbody tr th {\n",
       "        vertical-align: top;\n",
       "    }\n",
       "\n",
       "    .dataframe thead th {\n",
       "        text-align: right;\n",
       "    }\n",
       "</style>\n",
       "<table border=\"1\" class=\"dataframe\">\n",
       "  <thead>\n",
       "    <tr style=\"text-align: right;\">\n",
       "      <th></th>\n",
       "      <th>Median Abs Correlation</th>\n",
       "      <th>Maximum</th>\n",
       "      <th>Mean</th>\n",
       "      <th>Std</th>\n",
       "    </tr>\n",
       "  </thead>\n",
       "  <tbody>\n",
       "    <tr>\n",
       "      <th>15_MarketReturn_Slope5</th>\n",
       "      <td>0.011273</td>\n",
       "      <td>0.025149</td>\n",
       "      <td>0.012040</td>\n",
       "      <td>0.006288</td>\n",
       "    </tr>\n",
       "    <tr>\n",
       "      <th>15_LogReturn_Slope5</th>\n",
       "      <td>0.006525</td>\n",
       "      <td>0.032938</td>\n",
       "      <td>0.008985</td>\n",
       "      <td>0.006598</td>\n",
       "    </tr>\n",
       "    <tr>\n",
       "      <th>10MovingAvg_TargetShifted_Slope5</th>\n",
       "      <td>0.004330</td>\n",
       "      <td>0.024352</td>\n",
       "      <td>0.005188</td>\n",
       "      <td>0.004199</td>\n",
       "    </tr>\n",
       "    <tr>\n",
       "      <th>TargetShifted_Slope5</th>\n",
       "      <td>0.003146</td>\n",
       "      <td>0.022336</td>\n",
       "      <td>0.004579</td>\n",
       "      <td>0.004416</td>\n",
       "    </tr>\n",
       "    <tr>\n",
       "      <th>20MovingStd_TargetShifted_Slope5</th>\n",
       "      <td>0.002538</td>\n",
       "      <td>0.016813</td>\n",
       "      <td>0.003128</td>\n",
       "      <td>0.002643</td>\n",
       "    </tr>\n",
       "  </tbody>\n",
       "</table>\n",
       "</div>"
      ],
      "text/plain": [
       "                                  Median Abs Correlation   Maximum      Mean  \\\n",
       "15_MarketReturn_Slope5                          0.011273  0.025149  0.012040   \n",
       "15_LogReturn_Slope5                             0.006525  0.032938  0.008985   \n",
       "10MovingAvg_TargetShifted_Slope5                0.004330  0.024352  0.005188   \n",
       "TargetShifted_Slope5                            0.003146  0.022336  0.004579   \n",
       "20MovingStd_TargetShifted_Slope5                0.002538  0.016813  0.003128   \n",
       "\n",
       "                                       Std  \n",
       "15_MarketReturn_Slope5            0.006288  \n",
       "15_LogReturn_Slope5               0.006598  \n",
       "10MovingAvg_TargetShifted_Slope5  0.004199  \n",
       "TargetShifted_Slope5              0.004416  \n",
       "20MovingStd_TargetShifted_Slope5  0.002643  "
      ]
     },
     "execution_count": 30,
     "metadata": {},
     "output_type": "execute_result"
    }
   ],
   "source": [
    "# Correlations between Lag-5 features and Target\n",
    "correlations.sort_values(by = \"Median Abs Correlation\", ascending = False)"
   ]
  },
  {
   "cell_type": "markdown",
   "id": "b5601ffb-a084-4782-999f-d4cf4d3954a1",
   "metadata": {},
   "source": [
    "According to the tables above, only 15-minute market return and 15-minute log return produce good lag-features. The Lag-10 results have higher correlations, and so the Lag-10 versions of these two features are the only ones I choose to keep. "
   ]
  },
  {
   "cell_type": "markdown",
   "id": "4d6be468-6f53-4cdc-871f-8bafe54218ea",
   "metadata": {},
   "source": [
    "Lastly, I check whether features, defined as the 2nd derivative of other important features, are worth keeping for our forecasting model. I find in the code blocks below, however, that none of them have large enough correlation with Target to be worth keeping. "
   ]
  },
  {
   "cell_type": "code",
   "execution_count": 32,
   "id": "de133b9d-8ecf-4634-8366-c8c33d0e35f2",
   "metadata": {
    "tags": []
   },
   "outputs": [],
   "source": [
    "select_features = [\"15_LogReturn\", \"TargetShifted\", \"10MovingAvg_TargetShifted\", \"20MovingStd_TargetShifted\", \"15_MarketReturn\"]\n",
    "for feature in select_features:\n",
    "    for asset_id in range(14): \n",
    "        df_lagged[feature + \"_2ndDeriv\" + str(asset_id)] = 2.0 * df_lagged[feature + \"_Slope5\" + str(asset_id)] - df_lagged[feature + \"_Slope10\" + str(asset_id)]"
   ]
  },
  {
   "cell_type": "code",
   "execution_count": 33,
   "id": "b89de577-0953-4803-9753-779952aa342f",
   "metadata": {
    "tags": []
   },
   "outputs": [],
   "source": [
    "# Correlations with unlagged dataframe\n",
    "correlations = pd.DataFrame()\n",
    "targets = [\"Target\" + str(asset_id) + \"_lag0\" for asset_id in range(14)]\n",
    "\n",
    "for feature in select_features:\n",
    "    cols = [feature + \"_2ndDeriv\" + str(asset_id) for asset_id in range(14)] + targets\n",
    "    corr = df_lagged[cols].corr()\n",
    "    maximum = np.max(abs(corr.iloc[14:, :14].to_numpy()))\n",
    "    median = np.median(abs(corr.iloc[14:, :14].to_numpy()))\n",
    "    mean = np.mean(abs(corr.iloc[14:, :14].to_numpy()))\n",
    "    std = np.std(abs(corr.iloc[14:, :14].to_numpy()))\n",
    "    correlations = pd.concat([correlations, pd.DataFrame([[median, maximum, mean, std]], index = [feature + \"_2ndDeriv\"], \n",
    "                                                         columns = [\"Median Abs Correlation\", \"Maximum\",  \"Mean\", \"Std\"])], axis = 0)"
   ]
  },
  {
   "cell_type": "code",
   "execution_count": 34,
   "id": "3161b3cb-2440-4ed6-8a9f-d088b764f334",
   "metadata": {
    "tags": []
   },
   "outputs": [
    {
     "data": {
      "text/html": [
       "<div>\n",
       "<style scoped>\n",
       "    .dataframe tbody tr th:only-of-type {\n",
       "        vertical-align: middle;\n",
       "    }\n",
       "\n",
       "    .dataframe tbody tr th {\n",
       "        vertical-align: top;\n",
       "    }\n",
       "\n",
       "    .dataframe thead th {\n",
       "        text-align: right;\n",
       "    }\n",
       "</style>\n",
       "<table border=\"1\" class=\"dataframe\">\n",
       "  <thead>\n",
       "    <tr style=\"text-align: right;\">\n",
       "      <th></th>\n",
       "      <th>Median Abs Correlation</th>\n",
       "      <th>Maximum</th>\n",
       "      <th>Mean</th>\n",
       "      <th>Std</th>\n",
       "    </tr>\n",
       "  </thead>\n",
       "  <tbody>\n",
       "    <tr>\n",
       "      <th>15_MarketReturn_2ndDeriv</th>\n",
       "      <td>0.004550</td>\n",
       "      <td>0.009421</td>\n",
       "      <td>0.004605</td>\n",
       "      <td>0.002648</td>\n",
       "    </tr>\n",
       "    <tr>\n",
       "      <th>15_LogReturn_2ndDeriv</th>\n",
       "      <td>0.003202</td>\n",
       "      <td>0.010915</td>\n",
       "      <td>0.003583</td>\n",
       "      <td>0.002505</td>\n",
       "    </tr>\n",
       "    <tr>\n",
       "      <th>10MovingAvg_TargetShifted_2ndDeriv</th>\n",
       "      <td>0.003135</td>\n",
       "      <td>0.017241</td>\n",
       "      <td>0.003635</td>\n",
       "      <td>0.002961</td>\n",
       "    </tr>\n",
       "    <tr>\n",
       "      <th>TargetShifted_2ndDeriv</th>\n",
       "      <td>0.001646</td>\n",
       "      <td>0.010674</td>\n",
       "      <td>0.002366</td>\n",
       "      <td>0.002079</td>\n",
       "    </tr>\n",
       "    <tr>\n",
       "      <th>20MovingStd_TargetShifted_2ndDeriv</th>\n",
       "      <td>0.001339</td>\n",
       "      <td>0.009017</td>\n",
       "      <td>0.001860</td>\n",
       "      <td>0.001625</td>\n",
       "    </tr>\n",
       "  </tbody>\n",
       "</table>\n",
       "</div>"
      ],
      "text/plain": [
       "                                    Median Abs Correlation   Maximum  \\\n",
       "15_MarketReturn_2ndDeriv                          0.004550  0.009421   \n",
       "15_LogReturn_2ndDeriv                             0.003202  0.010915   \n",
       "10MovingAvg_TargetShifted_2ndDeriv                0.003135  0.017241   \n",
       "TargetShifted_2ndDeriv                            0.001646  0.010674   \n",
       "20MovingStd_TargetShifted_2ndDeriv                0.001339  0.009017   \n",
       "\n",
       "                                        Mean       Std  \n",
       "15_MarketReturn_2ndDeriv            0.004605  0.002648  \n",
       "15_LogReturn_2ndDeriv               0.003583  0.002505  \n",
       "10MovingAvg_TargetShifted_2ndDeriv  0.003635  0.002961  \n",
       "TargetShifted_2ndDeriv              0.002366  0.002079  \n",
       "20MovingStd_TargetShifted_2ndDeriv  0.001860  0.001625  "
      ]
     },
     "execution_count": 34,
     "metadata": {},
     "output_type": "execute_result"
    }
   ],
   "source": [
    "correlations.sort_values(by = \"Median Abs Correlation\", ascending = False)"
   ]
  },
  {
   "cell_type": "markdown",
   "id": "3186a288-9052-4537-9ea8-bfceed0863f8",
   "metadata": {
    "tags": []
   },
   "source": [
    "#### <a id=\"1\"></a>\n",
    "# <p style=\"background-color:#8DB600;font-family:newtimeroman;color:#FFF9ED;font-size:100%;text-align:center;border-radius:10px 10px;\">Loading Data and Evaluation Metric for Forecasting</p>"
   ]
  },
  {
   "cell_type": "code",
   "execution_count": 109,
   "id": "c464ebae-1533-4acb-bf61-a4a6ba5be971",
   "metadata": {
    "tags": []
   },
   "outputs": [
    {
     "name": "stderr",
     "output_type": "stream",
     "text": [
      "/usr/local/lib/python3.9/site-packages/IPython/core/interactiveshell.py:3444: DtypeWarning: Columns (57,73,137,169,201,217) have mixed types.Specify dtype option on import or set low_memory=False.\n",
      "  exec(code_obj, self.user_global_ns, self.user_ns)\n"
     ]
    }
   ],
   "source": [
    "# Loading all data\n",
    "\n",
    "# Main dataframe \n",
    "df = pd.read_csv(\"df_flattened.csv\")\n",
    "df.set_index(\"timestamp\", inplace = True)\n",
    "\n",
    "# Asset weights file\n",
    "directory = \"~/Desktop/g-research-crypto-forecasting/\"\n",
    "asset_file = \"asset_details.csv\"\n",
    "asset_details = pd.read_csv(directory + asset_file)"
   ]
  },
  {
   "cell_type": "code",
   "execution_count": 110,
   "id": "1baa5db0-3313-4f48-ac2c-f06753daf39f",
   "metadata": {
    "tags": []
   },
   "outputs": [],
   "source": [
    "# Evaluation metric, as given by competition makers  \n",
    "def weighted_correlation(a, b, weights):\n",
    "\n",
    "    w = np.ravel(weights)\n",
    "    a = np.ravel(a)\n",
    "    b = np.ravel(b)\n",
    "\n",
    "    sum_w = np.sum(w)\n",
    "    mean_a = np.sum(a * w) / sum_w\n",
    "    mean_b = np.sum(b * w) / sum_w\n",
    "    var_a = np.sum(w * np.square(a - mean_a)) / sum_w\n",
    "    var_b = np.sum(w * np.square(b - mean_b)) / sum_w\n",
    "\n",
    "    cov = np.sum((a * b * w)) / np.sum(w) - mean_a * mean_b\n",
    "    corr = cov / np.sqrt(var_a * var_b)\n",
    "\n",
    "    return corr"
   ]
  },
  {
   "cell_type": "markdown",
   "id": "ccffb47a-d81b-4cb9-93cd-b675c06ee5d3",
   "metadata": {
    "tags": []
   },
   "source": [
    "#### <a id=\"1\"></a>\n",
    "# <p style=\"background-color:#8DB600;font-family:newtimeroman;color:#FFF9ED;font-size:100%;text-align:center;border-radius:10px 10px;\">Benchmark Models: Persistence and Linear Regression </p>"
   ]
  },
  {
   "cell_type": "markdown",
   "id": "b1cd6fc2-64a1-48bf-9069-3f8cd5c51e4c",
   "metadata": {},
   "source": [
    "We should run some benchmark, simple models for forecasting. That way, we can meaningfully compare the performance of our final model (using XGBoost) with baseline evaluation metric values. Towards this purpose, I use the persistence model (guessing the previously known value in the timeseries) and linear regression. "
   ]
  },
  {
   "cell_type": "markdown",
   "id": "b75e6b55-9ee3-4b61-b146-572e651259f8",
   "metadata": {},
   "source": [
    "Running the persistence model below, for a test-sample that makes up 33% of all time series data for all assets, produces a mildly negative correlation coefficient. In other words, the persistence model is so bad that it is not worth using at all. "
   ]
  },
  {
   "cell_type": "code",
   "execution_count": 32,
   "id": "bce4efb4-4e44-4b91-8b32-251d339fed29",
   "metadata": {
    "tags": []
   },
   "outputs": [
    {
     "name": "stdout",
     "output_type": "stream",
     "text": [
      "The weighted correlation is -0.0346\n"
     ]
    }
   ],
   "source": [
    "# Test the Persistence Model\n",
    "\n",
    "y_test = np.array([])\n",
    "y_pred = np.array([])\n",
    "weights = np.array([])\n",
    "test_size = 0.3\n",
    "\n",
    "for asset_id in range(14):\n",
    "    # Target\n",
    "    y = df.loc[asset_id, \"Target\"].dropna()\n",
    "    \n",
    "    # Indices of test set \n",
    "    n = y.shape[0]\n",
    "    cutoff = int(n * (1 - test_size))\n",
    "    \n",
    "    # True values and Predictions\n",
    "    y_test = np.append(y_test, y[cutoff:].to_numpy())\n",
    "    y_pred = np.append(y_pred, y[cutoff-16:-16].to_numpy())\n",
    "    \n",
    "    # Weights\n",
    "    weight = asset_details.loc[asset_id, \"Weight\"]\n",
    "    weights = np.append(weights, np.array([weight] * (n - cutoff)))\n",
    "\n",
    "print(\"The weighted correlation is {:.4f}\".format(weighted_correlation(y_test, y_pred, weights)))"
   ]
  },
  {
   "cell_type": "markdown",
   "id": "484cd084-82c5-4b6b-9f93-5fee41bf173e",
   "metadata": {},
   "source": [
    "Before running linear regression, I need to do the precisely same preprocessing steps necessary for XGBoost. For simplicity, I only place relevant code in the next subsection. The result of linear regression is a weighted correlation of +0.014, which we will use as our benchmark. "
   ]
  },
  {
   "cell_type": "markdown",
   "id": "e8d5db23-277e-4846-ae98-b395a39f0c26",
   "metadata": {},
   "source": [
    "#### <a id=\"1\"></a>\n",
    "# <p style=\"background-color:#8DB600;font-family:newtimeroman;color:#FFF9ED;font-size:100%;text-align:center;border-radius:10px 10px;\">XGBoost Forecasting Model</p>"
   ]
  },
  {
   "cell_type": "markdown",
   "id": "47993f74-5825-4386-89e8-9a6d242545c0",
   "metadata": {},
   "source": [
    "I first perform the following steps to prepare my data for the forecasting model:\n",
    "* I define my own train/test/split function (analogous to that of scikit learn's train_test_split), with various extra properties I need for easy use. \n",
    "* I decide on parameters for train and test sets. Specifically, I test my forecasting model on 10 different slices of 12-hour data, scattered evenly throughout the entire time period in which I have data. Before testing, I train my model on the data of 25 days directly before the test slice. If any asset has data available for less than 30% of the the time slice, due to many missing time points, I skip training and testing for that asset. \n",
    "* I define the list of features I will use, based on the results of my 'Feature Engineering and Feature Selection' section. \n",
    "\n",
    "Then I perform XGBoost. I did attempt some hyperparameter tuning of XGBoost, on the number of trees (n_estimators), the maximum depth of the trees (max_depth), the fraction of the training set to randomly use for training (subsample), and the L2 regularization parameter (reg_lambda). I found, however, that the default values were good enough that hyperparameter tuning was not going to significantly improve my evaluation metric. Besides decreasing my n_estimators to 30 to save on run-time, I ultimately kept the default settings. "
   ]
  },
  {
   "cell_type": "code",
   "execution_count": 116,
   "id": "75473843-8141-4595-b2d6-b6cfabc206ef",
   "metadata": {
    "tags": []
   },
   "outputs": [],
   "source": [
    "def my_train_test_split(dataframe, feature_columns: list, target_columns: list, max_train_size: int, test_index_begin: int, test_index_end: int):\n",
    "    # dataframe must already carry all the colums you're interested in, for features and target\n",
    "    #     if you need lags, make sure they're already in the dataframe\n",
    "    \n",
    "    # Split train and test\n",
    "    train_df = dataframe.iloc[test_index_begin - max_train_size:test_index_begin]\n",
    "    test_df = dataframe.iloc[test_index_begin: test_index_end + 1]\n",
    "    \n",
    "    # Return X_train, X_test, y_train, y_test\n",
    "    X_train, X_test = train_df.loc[:, feature_columns], test_df.loc[:, feature_columns]\n",
    "    y_train, y_test = train_df.loc[:, target_columns], test_df.loc[:, target_columns]\n",
    "    \n",
    "    # Replace infinities and nan's\n",
    "    X_train.replace({np.inf: 0, -np.inf: 0, np.nan: 0}, inplace = True)   \n",
    "    X_test.replace({np.inf: 0, -np.inf: 0, np.nan: 0}, inplace = True)   \n",
    "    \n",
    "    return X_train, X_test, y_train, y_test"
   ]
  },
  {
   "cell_type": "code",
   "execution_count": 139,
   "id": "43b902ef-e01f-478d-bc53-afab5b37038e",
   "metadata": {
    "tags": []
   },
   "outputs": [],
   "source": [
    "# Specify train-set and test-set parameters\n",
    "test_hours = 12 # half a day\n",
    "n_test_slices = 10\n",
    "train_hours = 12 * 50 # 25 days\n",
    "\n",
    "# Specifying train and test sets \n",
    "n = df.shape[0]\n",
    "max_train_size = train_hours * 60\n",
    "max_test_size = test_hours * 60\n",
    "test_slices = [(slice_no * n // n_test_slices - max_test_size + 1, slice_no * n // n_test_slices) for slice_no in range(1, n_test_slices + 1)] \n",
    "\n",
    "# Target columns\n",
    "target_columns = [\"Target\" + str(asset_id) + \"_lag0\" for asset_id in range(14)]\n",
    "\n",
    "# Feature columns\n",
    "features0 = [\"15_LogReturn\", \"TargetShifted\", \"10MovingAvg_TargetShifted\", \"20MovingStd_TargetShifted\", \"15_MarketReturn\"]\n",
    "features0 = [feature + str(asset_id) + \"_lag0\" for asset_id in range(14) for feature in features0]\n",
    "features1 = [\"15_LogReturn_Slope10\", \"15_MarketReturn_Slope10\"]\n",
    "features1 = [feature + str(asset_id) for asset_id in range(14) for feature in features1]\n",
    "feature_columns = features0 + features1 "
   ]
  },
  {
   "cell_type": "code",
   "execution_count": 165,
   "id": "6d9ed4cc-406f-47e5-9731-caef33f8b1ed",
   "metadata": {
    "collapsed": true,
    "jupyter": {
     "outputs_hidden": true
    },
    "tags": []
   },
   "outputs": [
    {
     "name": "stdout",
     "output_type": "stream",
     "text": [
      "New train-test slice 1\n",
      "Skipping asset 4 due to lack of data\n",
      "Skipping asset 8 due to lack of data\n",
      "Skipping asset 10 due to lack of data\n",
      "Skipping asset 11 due to lack of data\n",
      "Skipping asset 12 due to lack of data\n",
      "Cumulative weighted correlation is now 0.1296\n",
      "New train-test slice 2\n",
      "Skipping asset 4 due to lack of data\n",
      "Skipping asset 10 due to lack of data\n",
      "Skipping asset 11 due to lack of data\n",
      "Cumulative weighted correlation is now 0.0758\n",
      "New train-test slice 3\n",
      "Skipping asset 4 due to lack of data\n",
      "Skipping asset 10 due to lack of data\n",
      "Cumulative weighted correlation is now 0.0656\n",
      "New train-test slice 4\n",
      "Skipping asset 10 due to lack of data\n",
      "Cumulative weighted correlation is now 0.0522\n",
      "New train-test slice 5\n",
      "Skipping asset 8 due to lack of data\n",
      "Skipping asset 10 due to lack of data\n",
      "Cumulative weighted correlation is now 0.0502\n",
      "New train-test slice 6\n",
      "Skipping asset 4 due to lack of data\n",
      "Skipping asset 8 due to lack of data\n",
      "Skipping asset 10 due to lack of data\n",
      "Cumulative weighted correlation is now 0.0492\n",
      "New train-test slice 7\n",
      "Cumulative weighted correlation is now 0.0475\n",
      "New train-test slice 8\n",
      "Cumulative weighted correlation is now 0.0458\n",
      "New train-test slice 9\n",
      "Cumulative weighted correlation is now 0.0442\n",
      "New train-test slice 10\n",
      "Cumulative weighted correlation is now 0.0489\n"
     ]
    }
   ],
   "source": [
    "# Initializing arrays to carry results \n",
    "y_tests = np.array([])\n",
    "y_preds = np.array([])\n",
    "weights = np.array([])\n",
    "weighted_correlations = []\n",
    "\n",
    "for (num_test_slice, (test_index_begin, test_index_end)) in enumerate(test_slices): \n",
    "    \n",
    "    # Skipping first time slice due to significant amount of missing data in some assets\n",
    "    print(\"New train-test slice {}\".format(num_test_slice + 1)) \n",
    "    # Train test split\n",
    "    all_X_train, all_X_test, all_y_train, all_y_test = my_train_test_split(df_lagged, feature_columns, target_columns, max_train_size, test_index_begin, test_index_end)\n",
    "    \n",
    "    # Predict for each asset\n",
    "    for target_asset in range(14):\n",
    "        # Get target\n",
    "        target = \"Target\" + str(target_asset) + \"_lag0\"\n",
    "        y_train, y_test = all_y_train[target], all_y_test[target]\n",
    "        \n",
    "        # Keep only the timestamps with non-null targets\n",
    "        timestamps_train, timestamps_test = y_train[y_train.notnull()].index, y_test[y_test.notnull()].index\n",
    "        X_train, y_train = all_X_train.loc[timestamps_train], y_train.loc[timestamps_train]\n",
    "        X_test, y_test = all_X_test.loc[timestamps_test], y_test.loc[timestamps_test]\n",
    "        \n",
    "        # Stop if nearly empty\n",
    "        if (y_train.shape[0] < 0.3 * max_train_size) or (y_test.shape[0] < 0.3 * max_test_size):\n",
    "            print(\"Skipping asset {} due to lack of data\".format(target_asset))\n",
    "            continue \n",
    "            \n",
    "        # Model\n",
    "        evalset = [(X_train, y_train), (X_test, y_test)]\n",
    "        model = XGBRegressor(n_estimators = 30)\n",
    "            # subsample = 0.8 is NOT better than default of subsample of 1.0. \n",
    "            # max_depth = 5 is MUCH worse than max_depth = 6. max_depth = 7 is mildly worse. \n",
    "            # reg_lambda = 5.0, reg_lambda = 0.5 are both mildly worse than reg_lambda = 1.0\n",
    "        model.fit(X_train, y_train, eval_metric='rmse', eval_set=evalset, verbose = 0)\n",
    "        y_pred = model.predict(X_test)\n",
    "        \n",
    "        # Append results to y_tests, y_preds, weights\n",
    "        y_tests = np.append(y_tests, y_test.to_numpy())\n",
    "        y_preds = np.append(y_preds, y_pred)\n",
    "        weight = asset_details.loc[target_asset, \"Weight\"]\n",
    "        weights = np.append(weights, np.array([weight] * X_test.shape[0]))\n",
    "        \n",
    "    # Print current weighted correlation\n",
    "    correlation = weighted_correlation(y_tests, y_preds, weights)\n",
    "    print(\"Cumulative weighted correlation is now {:.4f}\".format(correlation))\n",
    "    weighted_correlations.append(correlation)"
   ]
  },
  {
   "cell_type": "markdown",
   "id": "7eee1065-2e97-4cd5-ad48-9bc09e555ffc",
   "metadata": {},
   "source": [
    "My final weighted correlation value from XGBoost was 0.049 (see code block above). \n",
    "\n",
    "This value should be met with some skepticism without my providing a confidence interval. However, I am not aware of a statistically justifiable way to calculate this confidence interval, given that the observation of a weighted correlation value for each time slice is coming from a different distribution each time, depending on the time slice.\n",
    "\n",
    "The plot below, however, does indicate that our weighted correlation value is truly converging. After each tested time-slice, I calculated the overall, cumulative weighted correlation of my forecasted values with the true Target. I plotted the resulting time-slice-dependence of the weighted correlation in the plot below. With increasingly more test-slices, the weighted correlation converged steadily to our final value. "
   ]
  },
  {
   "cell_type": "code",
   "execution_count": 186,
   "id": "dc8254af-d5be-46ae-8db5-19b687330dae",
   "metadata": {
    "jupyter": {
     "source_hidden": true
    },
    "tags": []
   },
   "outputs": [
    {
     "data": {
      "image/png": "[encoded data removed]",
      "text/plain": [
       "<Figure size 432x288 with 1 Axes>"
      ]
     },
     "metadata": {
      "needs_background": "light"
     },
     "output_type": "display_data"
    }
   ],
   "source": [
    "plt.plot(range(10), weighted_correlations, '-o')\n",
    "plt.title(\"Weighted Correlation converges over many tested time-slices\", fontsize = 16)\n",
    "plt.xlabel(\"Number of time-slices tested\",fontsize = 14)\n",
    "plt.ylabel(\"Weighted correlation\", fontsize = 14)\n",
    "plt.ylim(0,0.14)\n",
    "plt.show()"
   ]
  },
  {
   "cell_type": "markdown",
   "id": "212f40a7-541a-421a-8dd9-a4d371b4ba04",
   "metadata": {},
   "source": [
    "In the code block below, I check how well XGBoost performs over many epochs (num_estimators). I used these plots to check for any signs of overfitting while tuning my model hyperparameters."
   ]
  },
  {
   "cell_type": "code",
   "execution_count": 183,
   "id": "73e57675-e0bd-46b0-acdd-d6bdb044abef",
   "metadata": {
    "jupyter": {
     "source_hidden": true
    },
    "tags": []
   },
   "outputs": [],
   "source": [
    "results = model.evals_result()\n",
    "plt.plot(results['validation_0']['rmse'], label='train')\n",
    "plt.plot(results['validation_1']['rmse'], label='test')\n",
    "plt.legend()\n",
    "plt.ylim(0, 0.05)\n",
    "plt.show()"
   ]
  },
  {
   "cell_type": "markdown",
   "id": "6e646546-2b7f-4d8e-926b-8a9effba294a",
   "metadata": {
    "tags": []
   },
   "source": [
    "Having completed a forecasting model with XGBoost, I could perform further feature selection, by finding which features were the least valuable for the fitted XGBoost and deleting them for further forecasting. The code block below shows how I can do this using TreeShap. However, having tried it, I found that the process, in practice, *reduced* the weighted correlation significantly. I therefore did not use this feature selection method in the final forecasting model."
   ]
  },
  {
   "cell_type": "code",
   "execution_count": 73,
   "id": "e7a39034-8cc2-4942-8d91-2de1f72b963a",
   "metadata": {
    "jupyter": {
     "source_hidden": true
    },
    "tags": []
   },
   "outputs": [],
   "source": [
    "# Treeshap can in \n",
    "# import shap\n",
    "# shap_values = shap.TreeExplainer(model).shap_values(X_train)\n",
    "# shap.summary_plot(shap_values, X_train, plot_type=\"bar\", max_display = 98)"
   ]
  },
  {
   "cell_type": "code",
   "execution_count": null,
   "id": "cd40e222-1d6e-4342-a66a-2a26cefb6ad5",
   "metadata": {},
   "outputs": [],
   "source": []
  },
  {
   "cell_type": "code",
   "execution_count": null,
   "id": "996901bf-0ddc-4f3f-b640-2803869d9a76",
   "metadata": {},
   "outputs": [],
   "source": []
  },
  {
   "cell_type": "code",
   "execution_count": null,
   "id": "0d8bfd02-82d6-4db5-82eb-285f79efee76",
   "metadata": {},
   "outputs": [],
   "source": []
  },
  {
   "cell_type": "code",
   "execution_count": null,
   "id": "838c0b96-82cf-4d84-90b1-d1b00ff08b26",
   "metadata": {},
   "outputs": [],
   "source": []
  }
 ],
 "metadata": {
  "kernelspec": {
   "display_name": "Python 3 (ipykernel)",
   "language": "python",
   "name": "python3"
  },
  "language_info": {
   "codemirror_mode": {
    "name": "ipython",
    "version": 3
   },
   "file_extension": ".py",
   "mimetype": "text/x-python",
   "name": "python",
   "nbconvert_exporter": "python",
   "pygments_lexer": "ipython3",
   "version": "3.9.9"
  }
 },
 "nbformat": 4,
 "nbformat_minor": 5
}
